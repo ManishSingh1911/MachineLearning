{
 "cells": [
  {
   "cell_type": "code",
   "execution_count": 151,
   "metadata": {},
   "outputs": [],
   "source": [
    "import numpy as np \n",
    "from sklearn import datasets\n",
    "import matplotlib.pyplot as plt\n",
    "import pandas as pd\n",
    "\n"
   ]
  },
  {
   "cell_type": "code",
   "execution_count": 152,
   "metadata": {},
   "outputs": [],
   "source": [
    "iris=datasets.load_iris()\n",
    "#y= (iris.data[:,3]>1) #-------------> Checks Condition \n",
    "#y= iris.data[iris.target==0] ------------> access only species of setosa \n",
    "#sl= y[:,0] --------> sepal length of all setosa sepcies \n",
    "#np.mean(sl)\n",
    "#print(np.count_nonzero(y)) -----------> Counts number of flowers with Petal Width greater than 1\n",
    "#np.count_nonzero(y)\n",
    "#print(iris.target)\n",
    "#print(iris.target_names)\n",
    "#print(iris.data) \n",
    "#np.mean(iris.data,axis=0) -------> Mean of all 4 measurements for all 3 species\n",
    "#np.mean(iris.data[iris.target==0],axis=0) #mean of sl sw pl and pw for the setosa species\n",
    "#np.mean(iris.data[iris.target==1],axis=0) #mean of sl sw pl and pw for the versicolor species\n",
    "#np.mean(iris.data[iris.target==2],axis=0) #mean of sl sw pl and pw for the verginica species\n",
    "#iris.data[:,0] is sepal length \n",
    "#iris.data[:,1] is sepal width \n",
    "#iris.data[:,2] is petal length\n",
    "#y= iris.data[iris.target==0]\n",
    "#mean= np.mean(y[:,0])\n",
    "#the above two steps calculate mean of sepal length for the species setosa\n",
    "\n",
    "#np.count_nonzero(iris.data[:,3]>1)  -----> counts the number of flowers having petal width greater than 1 \n",
    "\n",
    "#iris.data[:,(2,3)]  ---------> select 2nd and 3rd column \n"
   ]
  },
  {
   "cell_type": "code",
   "execution_count": 153,
   "metadata": {},
   "outputs": [],
   "source": [
    "#IRIS DATA SET \n",
    "\n",
    "import pandas as pd\n",
    "df= pd.read_csv('iris.csv')\n",
    "#y=df[:50] # ---------------> Obtain the first 50 elements\n",
    "#y\n",
    "#a=iris.data[iris.target==0] ----------> Obtains elements of just the Setosa Species\n",
    "#mean= np.mean(a[:,0])\n",
    "#mean \n",
    "#df --------> shows the data in the csv file \n",
    "#(df.SepalLengthCm)\n",
    "#(df.SepalWidthCm)\n",
    "#(df.PetalLengthCm)\n",
    "#df[[\"PetalWidthCm\",\"PetalLengthCm\"]] - select petal width and petal length of all flowers \n",
    "#df[:10]  -----------> accesses the first 10 elements \n",
    "#np.mean(df[[\"PetalWidthCm\"]])\n"
   ]
  },
  {
   "cell_type": "code",
   "execution_count": 154,
   "metadata": {},
   "outputs": [],
   "source": [
    "#BOSTON DATA SET \n",
    "# Imports \n",
    "#from sklearn.datasets import load_boston\n",
    "#import pandas as pd\n",
    "import pandas as pd\n",
    "df= pd.read_csv('Boston.csv')\n",
    "#boston= datasets.load_boston()\n",
    "#y= df[:20] -------> access the first 20 elements\n",
    "#mean= np.mean(y[[\"crim\"]]) ----------> returns mean of crim of the first 20 elements \n",
    "#mean\n",
    "# Load Data\n",
    "#boston = load_boston()\n",
    "\n",
    "# Create a dataframe\n",
    "#df = pd.DataFrame(boston.data, columns = boston.feature_names)\n",
    "#df['target'] = boston.target\n",
    "#X = boston.data\n",
    "#df.sample(4)\n",
    "\n"
   ]
  },
  {
   "cell_type": "code",
   "execution_count": 155,
   "metadata": {},
   "outputs": [],
   "source": [
    "#DIABETES DATA SET \n",
    "\n",
    "import pandas as pd\n",
    "df= pd.read_csv('diabetes.csv')\n",
    "diabetes= datasets.load_diabetes()\n",
    "#plt.hist(df[\"Age\"])\n",
    "#df[:50]\n",
    "#diabetes.data\n",
    "#df\n",
    "#np.mean(df[[\"Age\"]])\n",
    "#plt.hist((df[[\"Age\"]]))\n",
    "#plt.scatter()\n",
    "#df\n"
   ]
  },
  {
   "cell_type": "code",
   "execution_count": 156,
   "metadata": {},
   "outputs": [],
   "source": [
    "#DIGITS DATA SET \n",
    "\n",
    "import pandas as pd\n",
    "df= pd.read_csv('digits.csv')\n",
    "digits= datasets.load_digits()\n",
    "#y=df[:100]\n",
    "#df[[\"0.25\",\"5\"]]\n",
    "\n"
   ]
  },
  {
   "cell_type": "code",
   "execution_count": 157,
   "metadata": {},
   "outputs": [],
   "source": [
    "#WINE DATA SET \n",
    "\n",
    "import pandas as pd\n",
    "df= pd.read_csv('wine.csv')\n",
    "wine= datasets.load_wine()\n",
    "#y=df[[\"Wine\"]]\n",
    "#y\n",
    "#y=(df[[\"Wine\"]]==1)\n",
    "#x=df[df.Wine.isnull()] #---> checks all zero\n",
    "#np.count_nonzero(x) \n",
    "#df[df.Wine.isnull()==false] ---> checks all non zero\n",
    "#np.count_nonzero(y) -----------> Counts the number of 1st category wines "
   ]
  },
  {
   "cell_type": "code",
   "execution_count": 158,
   "metadata": {},
   "outputs": [],
   "source": [
    "#TITANIC TRAIN DATA SET \n",
    "df= pd.read_csv('titanic_train.csv')\n",
    "#x=df[df.Age.isnull()] #---> checks all zero\n",
    "#x  ------------> check description below to see the number of people missing age\n",
    "#y=df[df[\"Sex\"]==\"male\"]   -----------------> Accesses just the male candidates in the data set\n",
    "#age= df[\"Age\"]\n",
    "#np.mean(age)"
   ]
  },
  {
   "cell_type": "code",
   "execution_count": 159,
   "metadata": {},
   "outputs": [],
   "source": [
    "#BREAST CANCER DATA SET \n",
    "import pandas as pd\n",
    "df= pd.read_csv('breast-cancer.csv')\n",
    "breast_cancer= datasets.load_breast_cancer()\n",
    "#selection = df[[\"compactness_mean\",\"radius_worst\"]]\n",
    "#selection"
   ]
  },
  {
   "cell_type": "code",
   "execution_count": 160,
   "metadata": {},
   "outputs": [
    {
     "name": "stderr",
     "output_type": "stream",
     "text": [
      "C:\\Users\\DELL\\AppData\\Local\\Temp\\ipykernel_23836\\1218845556.py:7: UserWarning: Boolean Series key will be reindexed to match DataFrame index.\n",
      "  z= y[df[\"Sex\"]==\"female\"]\n"
     ]
    }
   ],
   "source": [
    "df= pd.read_csv('train.csv')\n",
    "df\n",
    "\n",
    "y=df[df[\"Survived\"]==1]\n",
    "y\n",
    "\n",
    "z= y[df[\"Sex\"]==\"female\"]\n",
    "z\n",
    "\n",
    "a= z.Age<50\n"
   ]
  }
 ],
 "metadata": {
  "kernelspec": {
   "display_name": "Python 3.10.4 64-bit",
   "language": "python",
   "name": "python3"
  },
  "language_info": {
   "codemirror_mode": {
    "name": "ipython",
    "version": 3
   },
   "file_extension": ".py",
   "mimetype": "text/x-python",
   "name": "python",
   "nbconvert_exporter": "python",
   "pygments_lexer": "ipython3",
   "version": "3.10.4"
  },
  "orig_nbformat": 4,
  "vscode": {
   "interpreter": {
    "hash": "fbc768028c3e6ead51d9a200ddcb2ec858ae62844dcd1994729a8279be9b48f2"
   }
  }
 },
 "nbformat": 4,
 "nbformat_minor": 2
}
