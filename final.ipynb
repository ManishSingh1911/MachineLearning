{
 "cells": [
  {
   "cell_type": "code",
   "execution_count": 64,
   "metadata": {},
   "outputs": [
    {
     "data": {
      "text/plain": [
       "(array([ 6., 35., 57., 44., 26.,  4., 12.,  3.,  1.,  3.]),\n",
       " array([ 1820000.,  2863000.,  3906000.,  4949000.,  5992000.,  7035000.,\n",
       "         8078000.,  9121000., 10164000., 11207000., 12250000.]),\n",
       " <BarContainer object of 10 artists>)"
      ]
     },
     "execution_count": 64,
     "metadata": {},
     "output_type": "execute_result"
    },
    {
     "data": {
      "image/png": "[encoded data removed]",
      "text/plain": [
       "<Figure size 432x288 with 1 Axes>"
      ]
     },
     "metadata": {
      "needs_background": "light"
     },
     "output_type": "display_data"
    }
   ],
   "source": [
    "#Housing Data Set\n",
    "import pandas as pd\n",
    "import numpy as np\n",
    "import matplotlib.pyplot as plt\n",
    "df= pd.read_csv('housing.csv')\n",
    "df\n",
    "y= df[df[\"basement\"]==\"no\"]\n",
    "z= df[df[\"basement\"]==\"yes\"]\n",
    "price1= y[\"price\"]\n",
    "price2= z[\"price\"]\n",
    "figure, ax = plt.subplots(1,1)\n",
    "ax.set_title('Histogram As Required in the Question')\n",
    "ax.hist(price1,alpha=0.5)\n",
    "ax.hist(price2,alpha=0.5)\n"
   ]
  }
 ],
 "metadata": {
  "kernelspec": {
   "display_name": "Python 3.10.4 64-bit",
   "language": "python",
   "name": "python3"
  },
  "language_info": {
   "codemirror_mode": {
    "name": "ipython",
    "version": 3
   },
   "file_extension": ".py",
   "mimetype": "text/x-python",
   "name": "python",
   "nbconvert_exporter": "python",
   "pygments_lexer": "ipython3",
   "version": "3.10.4"
  },
  "orig_nbformat": 4,
  "vscode": {
   "interpreter": {
    "hash": "fbc768028c3e6ead51d9a200ddcb2ec858ae62844dcd1994729a8279be9b48f2"
   }
  }
 },
 "nbformat": 4,
 "nbformat_minor": 2
}
