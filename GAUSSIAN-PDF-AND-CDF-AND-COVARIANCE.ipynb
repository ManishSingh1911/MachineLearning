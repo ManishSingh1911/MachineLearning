{
 "cells": [
  {
   "cell_type": "code",
   "execution_count": 19,
   "metadata": {},
   "outputs": [
    {
     "name": "stdout",
     "output_type": "stream",
     "text": [
      "0.06680720126885807\n",
      "0.15865525393145707\n",
      "0.20232838096364308\n",
      "0.15865525393145707\n",
      "0.8413447460685429\n",
      "0.38292492254802624\n",
      "answer\n",
      "0.19146246127401312\n",
      "0.03989422804014327\n",
      "0.012951759566589175\n",
      "0.012951759566589175\n",
      "0.019947114020071634\n",
      "----------------\n",
      "answer\n",
      "9.025013499434122\n",
      "MULTI\n",
      "PROBABILITY\n",
      "2.5128290100661372\n"
     ]
    }
   ],
   "source": [
    "import numpy as np\n",
    "import scipy.stats \n",
    "import matplotlib.pyplot as plt\n",
    "\n",
    "#Generation of random data points \n",
    "# numpy.random.multivariate_normal()\n",
    "\n",
    "#Probability Density Value→ \n",
    "#scipy.stats.multivariate_normal().pdf()  \n",
    "#np.random.multivariate_normal([10,20],[[1,0],[0,1]],1000) ---------> generate 1000 random points each with two values\n",
    "\n",
    "# https://mmuratarat.github.io/2019-10-05/univariate-multivariate_gaussian\n",
    "\n",
    "\n",
    "print(scipy.stats.norm(175,10).cdf(160))\n",
    "print(scipy.stats.norm(175,15).cdf(160))\n",
    "print(scipy.stats.norm(175,18).cdf(160))\n",
    "print(1-(scipy.stats.norm(175,10).cdf(185)))\n",
    "print(scipy.stats.norm(175,10).cdf(185))\n",
    "x= 1- scipy.stats.norm(175,10).cdf(170)\n",
    "y= 1- scipy.stats.norm(175,10).cdf(180)\n",
    "print(x-y)\n",
    "x= 1- scipy.stats.norm(175,10).cdf(170)\n",
    "y= 1- scipy.stats.norm(175,10).cdf(175)\n",
    "print(\"answer\")\n",
    "print(x-y)\n",
    "print(scipy.stats.norm(175,10).pdf(175))\n",
    "print(scipy.stats.norm(175,10).pdf(160))\n",
    "print(scipy.stats.norm(175,10).pdf(190))\n",
    "print(scipy.stats.norm(175,20).pdf(175))\n",
    "print(\"----------------\")\n",
    "y=(scipy.stats.norm(175,5).pdf(173))*(scipy.stats.norm(80,10).pdf(75))\n",
    "z=(scipy.stats.norm(165,5).pdf(173))*(scipy.stats.norm(60,10).pdf(75))\n",
    "print(\"answer\")\n",
    "print(y/z)\n",
    "\n",
    "points=(np.random.multivariate_normal([10,20],[[1,0],[0,1]],100))\n",
    "#plt.scatter(points[:,0],points[:,1]) #scatter data of 0th column and 1st column \n",
    "#plt.axis('scaled')\n",
    "\n",
    "print(\"MULTI\")\n",
    "x=scipy.stats.multivariate_normal([175,80],[[25,16],[16,25]]).pdf([170,71])\n",
    "y=scipy.stats.multivariate_normal([165,60],[[25,16],[16,25]]).pdf([170,71])\n",
    "print(\"PROBABILITY\")\n",
    "print(x/y)\n",
    "\n",
    "\n"
   ]
  }
 ],
 "metadata": {
  "kernelspec": {
   "display_name": "Python 3.10.4 64-bit",
   "language": "python",
   "name": "python3"
  },
  "language_info": {
   "codemirror_mode": {
    "name": "ipython",
    "version": 3
   },
   "file_extension": ".py",
   "mimetype": "text/x-python",
   "name": "python",
   "nbconvert_exporter": "python",
   "pygments_lexer": "ipython3",
   "version": "3.10.4"
  },
  "orig_nbformat": 4,
  "vscode": {
   "interpreter": {
    "hash": "fbc768028c3e6ead51d9a200ddcb2ec858ae62844dcd1994729a8279be9b48f2"
   }
  }
 },
 "nbformat": 4,
 "nbformat_minor": 2
}
