{
 "cells": [
  {
   "cell_type": "code",
   "execution_count": 1,
   "metadata": {},
   "outputs": [],
   "source": [
    "import numpy as np\n",
    "import matplotlib.pyplot as plt"
   ]
  },
  {
   "cell_type": "code",
   "execution_count": 21,
   "metadata": {},
   "outputs": [
    {
     "name": "stdout",
     "output_type": "stream",
     "text": [
      "[1 2 3 4 5 6]\n",
      "[[1 2]\n",
      " [3 4]\n",
      " [5 6]]\n",
      "[[ 1  2]\n",
      " [ 3  4]\n",
      " [ 5  6]\n",
      " [ 7  8]\n",
      " [ 9 10]\n",
      " [11 12]]\n"
     ]
    },
    {
     "data": {
      "text/plain": [
       "array([2, 3, 0])"
      ]
     },
     "execution_count": 21,
     "metadata": {},
     "output_type": "execute_result"
    },
    {
     "data": {
      "image/png": "[encoded data removed]",
      "text/plain": [
       "<Figure size 432x288 with 1 Axes>"
      ]
     },
     "metadata": {
      "needs_background": "light"
     },
     "output_type": "display_data"
    }
   ],
   "source": [
    "x = np.array([1,2,3,4,5,6])\n",
    "print(x)\n",
    "print(x.reshape(-1,2))\n",
    "x = x.reshape(-1,1)\n",
    "x\n",
    "x = np.arange(1,13)\n",
    "x = x.reshape(-1,2)\n",
    "print(x)\n",
    "x[:,1]\n",
    "plt.scatter(x[:,0], x[:,1])\n",
    "\n",
    "np.sum(x, axis = 0)\n",
    "# np.mean(x,axis =1)\n",
    "x[1:3]\n",
    "x[:, 0:2]\n",
    "\n",
    "c= np.array([11,2,3,14,0])\n",
    "c[c<5]"
   ]
  },
  {
   "cell_type": "code",
   "execution_count": 28,
   "metadata": {},
   "outputs": [
    {
     "name": "stdout",
     "output_type": "stream",
     "text": [
      "[[1 2]\n",
      " [1 4]\n",
      " [2 3]\n",
      " [5 3]\n",
      " [5 5]\n",
      " [6 4]]\n",
      "[2.33333333 3.66666667] [2.33333333 3.66666667]\n",
      "[ 4.55555556  1.88888889  0.55555556  7.55555556  8.88888889 13.55555556]\n",
      "[ 4.55555556  1.88888889  0.55555556  7.55555556  8.88888889 13.55555556]\n"
     ]
    },
    {
     "data": {
      "text/plain": [
       "<matplotlib.collections.PathCollection at 0x1100119f0>"
      ]
     },
     "execution_count": 28,
     "metadata": {},
     "output_type": "execute_result"
    },
    {
     "data": {
      "image/png": "[encoded data removed]",
      "text/plain": [
       "<Figure size 432x288 with 1 Axes>"
      ]
     },
     "metadata": {
      "needs_background": "light"
     },
     "output_type": "display_data"
    },
    {
     "data": {
      "image/png": "[encoded data removed]",
      "text/plain": [
       "<Figure size 432x288 with 1 Axes>"
      ]
     },
     "metadata": {
      "needs_background": "light"
     },
     "output_type": "display_data"
    }
   ],
   "source": [
    "x = np.array([(1,2),(1,4),(2,3),(5,3),(5,5),(6,4)])\n",
    "print(x)\n",
    "C = np.array([0,0,1,1,0,1])   #cluster numbers assigned to data points \n",
    "plt.scatter(x[:,0], x[:,1], c=C)\n",
    "\n",
    "#assign clusters to each data points based on distances to centroids\n",
    "#First get those centroids c0, c1\n",
    "\n",
    "c0 = np.mean(x[C==0], axis = 0)\n",
    "c1 = np.mean(x[C==0], axis = 0)\n",
    "centroids = np.vstack([c0,c1])\n",
    "plt.scatter(centroids[:,0], centroids[:,1], c[0,1], marker)\n",
    "print(c0,c1)\n",
    "\n",
    "#calculate distances to c0, c1. Then asign cluster based on distances to c0, c1\n",
    "\n",
    "d0 = np.sum((x- c0)**2, axis = 1)\n",
    "d1 = np.sum((x- c1)**2, axis = 1)\n",
    "print(d0)\n",
    "print(d1)\n",
    "C = np.array([0,0,0,0,0,0])\n",
    "C[d1<d0] = 1 \n",
    "C\n",
    "plt.figure()\n",
    "plt.scatter(x[:,0], x[:,1], c=C)"
   ]
  },
  {
   "cell_type": "code",
   "execution_count": 33,
   "metadata": {},
   "outputs": [
    {
     "data": {
      "text/plain": [
       "array([0, 0, 0, 0, 0, 0, 0, 0, 0, 0, 0, 0, 0, 0, 0, 0, 0, 0, 0, 0],\n",
       "      dtype=int8)"
      ]
     },
     "execution_count": 33,
     "metadata": {},
     "output_type": "execute_result"
    }
   ],
   "source": [
    "np.random.randint(0,2,100)\n",
    "len(x)\n",
    "x.shape[0]\n",
    "np.zeros(20, dtype = 'int8')"
   ]
  },
  {
   "cell_type": "code",
   "execution_count": 39,
   "metadata": {},
   "outputs": [
    {
     "ename": "UnboundLocalError",
     "evalue": "local variable 'newC' referenced before assignment",
     "output_type": "error",
     "traceback": [
      "\u001b[0;31m---------------------------------------------------------------------------\u001b[0m",
      "\u001b[0;31mUnboundLocalError\u001b[0m                         Traceback (most recent call last)",
      "\u001b[1;32m/Users/sagar/Downloads/MS/Summer 2022/ML/code/clustering.ipynb Cell 5'\u001b[0m in \u001b[0;36m<cell line: 18>\u001b[0;34m()\u001b[0m\n\u001b[1;32m     <a href='vscode-notebook-cell:/Users/sagar/Downloads/MS/Summer%202022/ML/code/clustering.ipynb#ch0000004?line=15'>16</a>\u001b[0m                 newC[d1\u001b[39m<\u001b[39md0] \u001b[39m=\u001b[39m \u001b[39m1\u001b[39m\n\u001b[1;32m     <a href='vscode-notebook-cell:/Users/sagar/Downloads/MS/Summer%202022/ML/code/clustering.ipynb#ch0000004?line=16'>17</a>\u001b[0m         \u001b[39mreturn\u001b[39;00m C\n\u001b[0;32m---> <a href='vscode-notebook-cell:/Users/sagar/Downloads/MS/Summer%202022/ML/code/clustering.ipynb#ch0000004?line=17'>18</a>\u001b[0m k_means(x)\n\u001b[1;32m     <a href='vscode-notebook-cell:/Users/sagar/Downloads/MS/Summer%202022/ML/code/clustering.ipynb#ch0000004?line=18'>19</a>\u001b[0m plt\u001b[39m.\u001b[39mscatter(x[:,\u001b[39m0\u001b[39m], x[:,\u001b[39m1\u001b[39m], c \u001b[39m=\u001b[39mC)\n",
      "\u001b[1;32m/Users/sagar/Downloads/MS/Summer 2022/ML/code/clustering.ipynb Cell 5'\u001b[0m in \u001b[0;36mk_means\u001b[0;34m(x)\u001b[0m\n\u001b[1;32m      <a href='vscode-notebook-cell:/Users/sagar/Downloads/MS/Summer%202022/ML/code/clustering.ipynb#ch0000004?line=3'>4</a>\u001b[0m C \u001b[39m=\u001b[39m np\u001b[39m.\u001b[39mrandom\u001b[39m.\u001b[39mrandint(\u001b[39m0\u001b[39m,\u001b[39m2\u001b[39m,\u001b[39mlen\u001b[39m(x))  \u001b[39m#cluster numbers assigned to data points \u001b[39;00m\n\u001b[1;32m      <a href='vscode-notebook-cell:/Users/sagar/Downloads/MS/Summer%202022/ML/code/clustering.ipynb#ch0000004?line=5'>6</a>\u001b[0m C \u001b[39m=\u001b[39m \u001b[39m0\u001b[39m\n\u001b[0;32m----> <a href='vscode-notebook-cell:/Users/sagar/Downloads/MS/Summer%202022/ML/code/clustering.ipynb#ch0000004?line=6'>7</a>\u001b[0m \u001b[39mwhile\u001b[39;00m \u001b[39mnot\u001b[39;00m np\u001b[39m.\u001b[39marray_equal(C,newC):\n\u001b[1;32m      <a href='vscode-notebook-cell:/Users/sagar/Downloads/MS/Summer%202022/ML/code/clustering.ipynb#ch0000004?line=7'>8</a>\u001b[0m         C \u001b[39m=\u001b[39m newC\n\u001b[1;32m      <a href='vscode-notebook-cell:/Users/sagar/Downloads/MS/Summer%202022/ML/code/clustering.ipynb#ch0000004?line=8'>9</a>\u001b[0m         c0 \u001b[39m=\u001b[39m np\u001b[39m.\u001b[39mmean(x[C\u001b[39m==\u001b[39m\u001b[39m0\u001b[39m], axis \u001b[39m=\u001b[39m \u001b[39m0\u001b[39m)\n",
      "\u001b[0;31mUnboundLocalError\u001b[0m: local variable 'newC' referenced before assignment"
     ]
    }
   ],
   "source": [
    "def k_means(x):\n",
    "        #Given an array of data points x,\n",
    "        #returns the cluster assignment C\n",
    "        C = np.random.randint(0,2,len(x))  #cluster numbers assigned to data points \n",
    "                              \n",
    "        C = 0\n",
    "        while not np.array_equal(C,newC):\n",
    "                C = newC\n",
    "                c0 = np.mean(x[C==0], axis = 0)\n",
    "                c1 = np.mean(x[C==0], axis = 0)\n",
    "                \n",
    "                d0 = np.sum((x- c0)**2, axis = 1)\n",
    "                d1 = np.sum((x- c1)**2, axis = 1)\n",
    "                \n",
    "                newC = np.zeros(len(x), dtype = 'int8')\n",
    "                newC[d1<d0] = 1\n",
    "        return C\n",
    "k_means(x)\n",
    "plt.scatter(x[:,0], x[:,1], c =C)"
   ]
  }
 ],
 "metadata": {
  "interpreter": {
   "hash": "aee8b7b246df8f9039afb4144a1f6fd8d2ca17a180786b69acc140d282b71a49"
  },
  "kernelspec": {
   "display_name": "Python 3.10.4 64-bit",
   "language": "python",
   "name": "python3"
  },
  "language_info": {
   "codemirror_mode": {
    "name": "ipython",
    "version": 3
   },
   "file_extension": ".py",
   "mimetype": "text/x-python",
   "name": "python",
   "nbconvert_exporter": "python",
   "pygments_lexer": "ipython3",
   "version": "3.10.4"
  },
  "orig_nbformat": 4
 },
 "nbformat": 4,
 "nbformat_minor": 2
}
